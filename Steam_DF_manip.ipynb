{
 "cells": [
  {
   "cell_type": "code",
   "execution_count": 255,
   "id": "0c7c0799",
   "metadata": {},
   "outputs": [],
   "source": [
    "#importing relevant libraries for the code\n",
    "from numpy.core.multiarray import array\n",
    "import pandas as pd\n",
    "import numpy as np\n",
    "from pandas.core.frame import DataFrame\n",
    "import sklearn\n",
    "from sklearn import linear_model, metrics, preprocessing\n",
    "from sklearn.preprocessing import StandardScaler, MinMaxScaler\n",
    "from sklearn.linear_model import LinearRegression\n",
    "from sklearn.metrics import r2_score\n",
    "from sklearn.preprocessing import LabelEncoder\n",
    "from sklearn.model_selection import train_test_split\n",
    "import re"
   ]
  },
  {
   "cell_type": "code",
   "execution_count": 256,
   "id": "c800e390",
   "metadata": {},
   "outputs": [],
   "source": [
    "#function for data cleaning the DF\n",
    "def DataCleaning (Df:DataFrame):\n",
    "    Temp_Df = Df.copy() #we want to work on a copy and not change the original df\n",
    "    Temp_Df.dropna(inplace=True) #drop rows with missing values\n",
    "    Temp_Df.drop_duplicates(inplace=True,ignore_index=True) #drop rows with duplicate values\n",
    "    Temp_Df.drop(columns='Name',inplace=True) #game name is not relevant for the model\n",
    "    \n",
    "    #===========\n",
    "    dateList = [] #list for new dates\n",
    "    #switching months names strings with numbers\n",
    "    for date in Temp_Df['Date']:\n",
    "        date = date.replace('Jan','1')\n",
    "        date = date.replace('Feb','2')\n",
    "        date = date.replace('Mar','3')\n",
    "        date = date.replace('Apr','4')\n",
    "        date = date.replace('May','5')\n",
    "        date = date.replace('Jun','6')\n",
    "        date = date.replace('Jul','7')\n",
    "        date = date.replace('Aug','8')\n",
    "        date = date.replace('Sep','9')\n",
    "        date = date.replace('Oct','10')\n",
    "        date = date.replace('Nov','11')\n",
    "        date = date.replace('Dec','12')\n",
    "        date = date.replace(' ','')\n",
    "        date = date.replace(',','')\n",
    "        #updating date column\n",
    "        dateList.append(date) \n",
    "    Temp_Df['Date'] = dateList\n",
    "    Temp_Df['Date'] = Temp_Df['Date'].astype(int)\n",
    "    Temp_Df.drop(columns='Date',inplace=True)\n",
    "    #===========\n",
    "    le = preprocessing.LabelEncoder()\n",
    "    Genre = []\n",
    "    Has_More_Than_One_Genre = []\n",
    "    pattern = \"'([A-Z]\\w+\\s*[A-Z]?\\w*)',?\"\n",
    "    for i in Temp_Df['Genre']:\n",
    "        match = re.findall(pattern,i)\n",
    "        Genre.append(match)\n",
    "    \n",
    "    Number_Of_Genres = []\n",
    "    for L in Genre:\n",
    "        Number_Of_Genres.append(len(L))\n",
    "\n",
    "    Temp_Df['Number_Of_Genres'] = Number_Of_Genres\n",
    "\n",
    "    for L in Genre:\n",
    "        if len(L)>1:\n",
    "            Has_More_Than_One_Genre.append(1)\n",
    "        else:\n",
    "            Has_More_Than_One_Genre.append(0)\n",
    "    #Temp_Df['More Than One Genre'] = Has_More_Than_One_Genre\n",
    "    Temp_Df.drop(columns='Genre',inplace=True)\n",
    "    #=========\n",
    "    Langs = []\n",
    "    Has_Other_Than_English = []\n",
    "    Number_Of_Langs = []\n",
    "    pattern = \"\\'(\\w+\\s*\\w*)\\'?\"\n",
    "    for i in Temp_Df['Langs']:\n",
    "        match = re.findall(pattern,i)\n",
    "        Langs.append(match)\n",
    "    \n",
    "    for L in Langs:\n",
    "        Number_Of_Langs.append(len(L))\n",
    "    \n",
    "    Temp_Df['Number of langs'] = Number_Of_Langs\n",
    "\n",
    "    for L in Langs:\n",
    "        if len(L)>1:\n",
    "            Has_Other_Than_English.append(1)\n",
    "        else:\n",
    "            Has_Other_Than_English.append(0)\n",
    "    #Temp_Df['Has Other Than English'] = Has_Other_Than_English\n",
    "    Temp_Df.drop(columns='Langs',inplace=True)\n",
    "    #=========\n",
    "    Same_Dev_Pub = []\n",
    "    for i in range(Temp_Df.shape[0]):\n",
    "        if Temp_Df.Developer[i] == Temp_Df.Publisher[i]:\n",
    "            Same_Dev_Pub.append(1)\n",
    "        else:\n",
    "            Same_Dev_Pub.append(0)\n",
    "    Temp_Df['Same Dev and Pub'] = Same_Dev_Pub\n",
    "    #========\n",
    "    col = ['Developer','Publisher']\n",
    "    for i in col:\n",
    "        Temp_Df[i] = LabelEncoder().fit_transform(Temp_Df[i])\n",
    "    #=========\n",
    "    #print(Temp_Df.corr())\n",
    "    return Temp_Df"
   ]
  },
  {
   "cell_type": "code",
   "execution_count": 257,
   "id": "89c670e5",
   "metadata": {},
   "outputs": [],
   "source": [
    "def split_to_train_and_test(dataset:DataFrame, label_column):\n",
    "    y = dataset[label_column]\n",
    "    X = dataset.drop(columns = label_column)\n",
    "    X_train,X_test,y_train,y_test = train_test_split(X,y)\n",
    "    return X_train, X_test, y_train, y_test"
   ]
  },
  {
   "cell_type": "code",
   "execution_count": 258,
   "id": "19ec1ad7",
   "metadata": {},
   "outputs": [],
   "source": [
    "def train_model(X_train, y_train):\n",
    "    trained_model=linear_model.LinearRegression().fit(X_train,y_train)\n",
    "    return trained_model   "
   ]
  },
  {
   "cell_type": "code",
   "execution_count": 259,
   "id": "04799eec",
   "metadata": {},
   "outputs": [],
   "source": [
    "def predict(trained_model, X_test):\n",
    "    predicted_vals = trained_model.predict(X_test)\n",
    "    return predicted_vals"
   ]
  },
  {
   "cell_type": "code",
   "execution_count": 260,
   "id": "316e58e6",
   "metadata": {},
   "outputs": [],
   "source": [
    "def evaluate_performance(y_test,y_predicted):\n",
    "    evaluate_value = r2_score(y_test,y_predicted)\n",
    "    return evaluate_value"
   ]
  },
  {
   "cell_type": "code",
   "execution_count": 261,
   "id": "eef78f6a",
   "metadata": {},
   "outputs": [
    {
     "name": "stdout",
     "output_type": "stream",
     "text": [
      "[0.04848537107476114, 0.07237518365794138, 0.06718070457850134, 0.054007022146932315, 0.06961643183987953, 0.05811370051405518, 0.06973016915451269, 0.07082944988932816, 0.05668673488081921, 0.06339158056712402]\n",
      "0.0630416348303855\n"
     ]
    }
   ],
   "source": [
    "if __name__ == '__main__':\n",
    "    dataset = pd.read_csv('SteamGamesDF.csv',index_col=0)\n",
    "    cleaned_dataset  = DataCleaning(dataset)\n",
    "    results = []\n",
    "    for i in range(10):\n",
    "        X_train, X_test, y_train, y_test = split_to_train_and_test(cleaned_dataset,'Score')\n",
    "        trained_model = train_model(X_train,y_train)\n",
    "        y_predicted = predict(trained_model,X_test)\n",
    "        evaluate_value = evaluate_performance(y_test,y_predicted)\n",
    "        results.append(evaluate_value)\n",
    "    print(results)\n",
    "    print(sum(results)/len(results)) #median for r2 scores"
   ]
  }
 ],
 "metadata": {
  "kernelspec": {
   "display_name": "Python 3",
   "language": "python",
   "name": "python3"
  },
  "language_info": {
   "codemirror_mode": {
    "name": "ipython",
    "version": 3
   },
   "file_extension": ".py",
   "mimetype": "text/x-python",
   "name": "python",
   "nbconvert_exporter": "python",
   "pygments_lexer": "ipython3",
   "version": "3.8.8"
  }
 },
 "nbformat": 4,
 "nbformat_minor": 5
}
